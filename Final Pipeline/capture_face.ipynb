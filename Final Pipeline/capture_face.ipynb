{
 "cells": [
  {
   "cell_type": "markdown",
   "metadata": {},
   "source": [
    "## Registering Face"
   ]
  },
  {
   "cell_type": "markdown",
   "metadata": {},
   "source": [
    "this module will mimic the registration process"
   ]
  },
  {
   "cell_type": "code",
   "execution_count": 1,
   "metadata": {},
   "outputs": [],
   "source": [
    "import cv2 # type: ignore"
   ]
  },
  {
   "cell_type": "code",
   "execution_count": 2,
   "metadata": {},
   "outputs": [
    {
     "name": "stdout",
     "output_type": "stream",
     "text": [
      "Press 'c' to capture an image and save it.\n",
      "Press 'q' to quit without saving.\n"
     ]
    },
    {
     "name": "stderr",
     "output_type": "stream",
     "text": [
      "2024-12-10 13:17:21.696 Python[2929:19511563] WARNING: Secure coding is automatically enabled for restorable state! However, not on all supported macOS versions of this application. Opt-in to secure coding explicitly by implementing NSApplicationDelegate.applicationSupportsSecureRestorableState:.\n"
     ]
    },
    {
     "name": "stdout",
     "output_type": "stream",
     "text": [
      "Image saved at known_faces/Ravi.jpg\n"
     ]
    }
   ],
   "source": [
    "# Ask for the name and prepare file path\n",
    "name = input(\"Enter your name: \")\n",
    "file_path = f\"known_faces/{name}.jpg\"\n",
    "\n",
    "# Open the camera\n",
    "cap = cv2.VideoCapture(0)  # 0 is the ID for the default camera\n",
    "\n",
    "if not cap.isOpened():\n",
    "    print(\"Error: Could not open camera.\")\n",
    "else:\n",
    "    print(\"Press 'c' to capture an image and save it.\")\n",
    "    print(\"Press 'q' to quit without saving.\")\n",
    "\n",
    "while True:\n",
    "    ret, frame = cap.read()  # Read a frame from the camera\n",
    "    if not ret:\n",
    "        print(\"Failed to capture frame. Exiting...\")\n",
    "        break\n",
    "    \n",
    "    cv2.imshow(\"Camera - Press 'c' to capture\", frame)  # Display the frame\n",
    "\n",
    "    key = cv2.waitKey(1) & 0xFF  # Wait for a key press\n",
    "    if key == ord('c'):  # If 'c' is pressed\n",
    "        # Save the captured image\n",
    "        cv2.imwrite(file_path, frame)\n",
    "        print(f\"Image saved at {file_path}\")\n",
    "        break\n",
    "    elif key == ord('q'):  # If 'q' is pressed\n",
    "        print(\"Exiting without saving.\")\n",
    "        break\n",
    "\n",
    "# Release resources and close windows\n",
    "cap.release()\n",
    "cv2.destroyAllWindows()\n",
    "for _ in range(1, 5):  # Ensure all windows are destroyed\n",
    "    cv2.waitKey(1)"
   ]
  },
  {
   "cell_type": "code",
   "execution_count": null,
   "metadata": {},
   "outputs": [],
   "source": []
  }
 ],
 "metadata": {
  "kernelspec": {
   "display_name": "Python 3",
   "language": "python",
   "name": "python3"
  },
  "language_info": {
   "codemirror_mode": {
    "name": "ipython",
    "version": 3
   },
   "file_extension": ".py",
   "mimetype": "text/x-python",
   "name": "python",
   "nbconvert_exporter": "python",
   "pygments_lexer": "ipython3",
   "version": "3.9.6"
  }
 },
 "nbformat": 4,
 "nbformat_minor": 2
}
