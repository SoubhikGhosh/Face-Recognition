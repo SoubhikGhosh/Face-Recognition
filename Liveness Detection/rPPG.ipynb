{
 "cells": [
  {
   "cell_type": "markdown",
   "metadata": {
    "id": "gFWXrC_p9ZIE"
   },
   "source": [
    "rPPG or Remote Photoplethysmography is a technique that extracts heart rate information from video data, and it can be used for liveness detection by analyzing the variations in the rPPG signal.\n"
   ]
  },
  {
   "cell_type": "code",
   "execution_count": 1,
   "metadata": {
    "colab": {
     "base_uri": "https://localhost:8080/"
    },
    "id": "Lcg3YxdA9Nlt",
    "outputId": "72580638-091e-40df-b12d-c34eeb6b8692"
   },
   "outputs": [],
   "source": [
    "import cv2\n",
    "import numpy as np\n",
    "from scipy.signal import find_peaks\n",
    "import matplotlib.pyplot as plt\n",
    "from sklearn.decomposition import FastICA\n"
   ]
  },
  {
   "cell_type": "code",
   "execution_count": 1,
   "metadata": {},
   "outputs": [
    {
     "name": "stdout",
     "output_type": "stream",
     "text": [
      "Defaulting to user installation because normal site-packages is not writeable\n",
      "Requirement already satisfied: opencv-python-headless in /Users/soubhikghosh/Library/Python/3.9/lib/python/site-packages (4.10.0.84)\n",
      "Requirement already satisfied: numpy in /Users/soubhikghosh/Library/Python/3.9/lib/python/site-packages (1.26.4)\n",
      "Requirement already satisfied: scipy in /Users/soubhikghosh/Library/Python/3.9/lib/python/site-packages (1.13.1)\n",
      "Requirement already satisfied: scikit-learn in /Users/soubhikghosh/Library/Python/3.9/lib/python/site-packages (1.5.2)\n",
      "Requirement already satisfied: matplotlib in /Users/soubhikghosh/Library/Python/3.9/lib/python/site-packages (3.9.3)\n",
      "Requirement already satisfied: mediapipe in /Users/soubhikghosh/Library/Python/3.9/lib/python/site-packages (0.10.18)\n",
      "Requirement already satisfied: joblib>=1.2.0 in /Users/soubhikghosh/Library/Python/3.9/lib/python/site-packages (from scikit-learn) (1.4.2)\n",
      "Requirement already satisfied: threadpoolctl>=3.1.0 in /Users/soubhikghosh/Library/Python/3.9/lib/python/site-packages (from scikit-learn) (3.5.0)\n",
      "Requirement already satisfied: contourpy>=1.0.1 in /Users/soubhikghosh/Library/Python/3.9/lib/python/site-packages (from matplotlib) (1.3.0)\n",
      "Requirement already satisfied: cycler>=0.10 in /Users/soubhikghosh/Library/Python/3.9/lib/python/site-packages (from matplotlib) (0.12.1)\n",
      "Requirement already satisfied: fonttools>=4.22.0 in /Users/soubhikghosh/Library/Python/3.9/lib/python/site-packages (from matplotlib) (4.55.1)\n",
      "Requirement already satisfied: kiwisolver>=1.3.1 in /Users/soubhikghosh/Library/Python/3.9/lib/python/site-packages (from matplotlib) (1.4.7)\n",
      "Requirement already satisfied: packaging>=20.0 in /Users/soubhikghosh/Library/Python/3.9/lib/python/site-packages (from matplotlib) (24.2)\n",
      "Requirement already satisfied: pillow>=8 in /Users/soubhikghosh/Library/Python/3.9/lib/python/site-packages (from matplotlib) (11.0.0)\n",
      "Requirement already satisfied: pyparsing>=2.3.1 in /Users/soubhikghosh/Library/Python/3.9/lib/python/site-packages (from matplotlib) (3.2.0)\n",
      "Requirement already satisfied: python-dateutil>=2.7 in /Users/soubhikghosh/Library/Python/3.9/lib/python/site-packages (from matplotlib) (2.9.0.post0)\n",
      "Requirement already satisfied: importlib-resources>=3.2.0 in /Users/soubhikghosh/Library/Python/3.9/lib/python/site-packages (from matplotlib) (6.4.5)\n",
      "Requirement already satisfied: absl-py in /Users/soubhikghosh/Library/Python/3.9/lib/python/site-packages (from mediapipe) (2.1.0)\n",
      "Requirement already satisfied: attrs>=19.1.0 in /Users/soubhikghosh/Library/Python/3.9/lib/python/site-packages (from mediapipe) (24.2.0)\n",
      "Requirement already satisfied: flatbuffers>=2.0 in /Users/soubhikghosh/Library/Python/3.9/lib/python/site-packages (from mediapipe) (24.3.25)\n",
      "Requirement already satisfied: jax in /Users/soubhikghosh/Library/Python/3.9/lib/python/site-packages (from mediapipe) (0.4.30)\n",
      "Requirement already satisfied: jaxlib in /Users/soubhikghosh/Library/Python/3.9/lib/python/site-packages (from mediapipe) (0.4.30)\n",
      "Requirement already satisfied: opencv-contrib-python in /Users/soubhikghosh/Library/Python/3.9/lib/python/site-packages (from mediapipe) (4.10.0.84)\n",
      "Requirement already satisfied: protobuf<5,>=4.25.3 in /Users/soubhikghosh/Library/Python/3.9/lib/python/site-packages (from mediapipe) (4.25.5)\n",
      "Requirement already satisfied: sounddevice>=0.4.4 in /Users/soubhikghosh/Library/Python/3.9/lib/python/site-packages (from mediapipe) (0.5.1)\n",
      "Requirement already satisfied: sentencepiece in /Users/soubhikghosh/Library/Python/3.9/lib/python/site-packages (from mediapipe) (0.2.0)\n",
      "Requirement already satisfied: zipp>=3.1.0 in /Users/soubhikghosh/Library/Python/3.9/lib/python/site-packages (from importlib-resources>=3.2.0->matplotlib) (3.21.0)\n",
      "Requirement already satisfied: six>=1.5 in /Library/Developer/CommandLineTools/Library/Frameworks/Python3.framework/Versions/3.9/lib/python3.9/site-packages (from python-dateutil>=2.7->matplotlib) (1.15.0)\n",
      "Requirement already satisfied: CFFI>=1.0 in /Users/soubhikghosh/Library/Python/3.9/lib/python/site-packages (from sounddevice>=0.4.4->mediapipe) (1.17.1)\n",
      "Requirement already satisfied: ml-dtypes>=0.2.0 in /Users/soubhikghosh/Library/Python/3.9/lib/python/site-packages (from jax->mediapipe) (0.4.1)\n",
      "Requirement already satisfied: opt-einsum in /Users/soubhikghosh/Library/Python/3.9/lib/python/site-packages (from jax->mediapipe) (3.4.0)\n",
      "Requirement already satisfied: importlib-metadata>=4.6 in /Users/soubhikghosh/Library/Python/3.9/lib/python/site-packages (from jax->mediapipe) (8.5.0)\n",
      "Requirement already satisfied: pycparser in /Users/soubhikghosh/Library/Python/3.9/lib/python/site-packages (from CFFI>=1.0->sounddevice>=0.4.4->mediapipe) (2.22)\n"
     ]
    }
   ],
   "source": [
    "!pip3 install opencv-python-headless numpy scipy scikit-learn matplotlib mediapipe\n"
   ]
  },
  {
   "cell_type": "code",
   "execution_count": 2,
   "metadata": {
    "colab": {
     "base_uri": "https://localhost:8080/"
    },
    "id": "zpygFYXL9ot8",
    "outputId": "7499119b-9e01-4dcf-ca62-a599a7dbdad0"
   },
   "outputs": [],
   "source": [
    "# Use the webcam as the video source\n",
    "cap = cv2.VideoCapture(0)\n",
    "\n",
    "# Check if the webcam is opened successfully\n",
    "if not cap.isOpened():\n",
    "    print(\"Error: Could not open webcam.\")\n"
   ]
  },
  {
   "cell_type": "code",
   "execution_count": 3,
   "metadata": {
    "id": "EmU4UgNk9rAD"
   },
   "outputs": [],
   "source": [
    "def extract_roi(frame, face_cascade):\n",
    "    # Convert the frame to grayscale\n",
    "    gray = cv2.cvtColor(frame, cv2.COLOR_BGR2GRAY)\n",
    "\n",
    "    # Detect faces in the frame\n",
    "    faces = face_cascade.detectMultiScale(gray, scaleFactor=1.1, minNeighbors=5, minSize=(30, 30))\n",
    "\n",
    "    if len(faces) > 0:\n",
    "        # Get the first detected face\n",
    "        x, y, w, h = faces[0]\n",
    "        roi = frame[y:y + h, x:x + w]\n",
    "        return roi\n",
    "    else:\n",
    "        return None\n",
    "\n",
    "def extract_rppg_signal(roi):\n",
    "    # Extract the green channel\n",
    "    green_channel = roi[:, :, 1]\n",
    "\n",
    "    # Compute the mean intensity along the time axis\n",
    "    rppg_signal = np.mean(green_channel, axis=1)\n",
    "\n",
    "    return rppg_signal\n",
    "\n",
    "def estimate_heart_rate(rppg_signal, fps):\n",
    "    # Perform FastICA to remove motion artifacts\n",
    "    ica = FastICA(n_components=1)\n",
    "    rppg_cleaned = ica.fit_transform(rppg_signal.reshape(-1, 1))\n",
    "\n",
    "    # Find peaks in the rPPG signal\n",
    "    peaks, _ = find_peaks(rppg_cleaned[:, 0], height=0.5)\n",
    "\n",
    "    # Calculate heart rate in beats per minute (BPM)\n",
    "    heart_rate = len(peaks) / (len(rppg_cleaned) / fps) * 60\n",
    "\n",
    "    return heart_rate\n"
   ]
  },
  {
   "cell_type": "code",
   "execution_count": null,
   "metadata": {
    "colab": {
     "background_save": true,
     "base_uri": "https://localhost:8080/"
    },
    "id": "M1-E18a99voa",
    "outputId": "f74c553d-24b1-4b20-b63e-a8efc4444374"
   },
   "outputs": [
    {
     "name": "stderr",
     "output_type": "stream",
     "text": [
      "2024-12-04 09:44:28.150 Python[60018:17714058] WARNING: Secure coding is automatically enabled for restorable state! However, not on all supported macOS versions of this application. Opt-in to secure coding explicitly by implementing NSApplicationDelegate.applicationSupportsSecureRestorableState:.\n"
     ]
    },
    {
     "ename": "",
     "evalue": "",
     "output_type": "error",
     "traceback": [
      "\u001b[1;31mThe Kernel crashed while executing code in the current cell or a previous cell. \n",
      "\u001b[1;31mPlease review the code in the cell(s) to identify a possible cause of the failure. \n",
      "\u001b[1;31mClick <a href='https://aka.ms/vscodeJupyterKernelCrash'>here</a> for more info. \n",
      "\u001b[1;31mView Jupyter <a href='command:jupyter.viewOutput'>log</a> for further details."
     ]
    }
   ],
   "source": [
    "# Create a cascade classifier for face detection\n",
    "face_cascade = cv2.CascadeClassifier(cv2.data.haarcascades + 'haarcascade_frontalface_default.xml')\n",
    "\n",
    "# Set the frames per second (fps)\n",
    "fps = 30\n",
    "\n",
    "while True:\n",
    "    # Capture a frame from the webcam\n",
    "    ret, frame = cap.read()\n",
    "\n",
    "    if not ret:\n",
    "        print(\"Error: Could not read frame.\")\n",
    "        break\n",
    "\n",
    "    # Extract the ROI (face) from the frame\n",
    "    roi = extract_roi(frame, face_cascade)\n",
    "\n",
    "    if roi is not None:\n",
    "        # Extract the rPPG signal from the ROI\n",
    "        rppg_signal = extract_rppg_signal(roi)\n",
    "\n",
    "        # Estimate the heart rate\n",
    "        heart_rate = estimate_heart_rate(rppg_signal, fps)\n",
    "\n",
    "        # Display the heart rate on the frame\n",
    "        cv2.putText(frame, f\"Heart Rate: {heart_rate:.1f} BPM\", (10, 30), cv2.FONT_HERSHEY_SIMPLEX, 1, (0, 255, 0), 2)\n",
    "\n",
    "    # Display the frame with heart rate information\n",
    "    cv2.imshow(\"rPPG Liveness Detection\", frame)\n",
    "\n",
    "    # Exit the loop if 'q' is pressed\n",
    "    if cv2.waitKey(1) & 0xFF == ord('q'):\n",
    "        break\n",
    "\n",
    "# Release the webcam and close all windows\n",
    "cap.release()\n",
    "cv2.destroyAllWindows()\n"
   ]
  },
  {
   "cell_type": "code",
   "execution_count": null,
   "metadata": {
    "id": "mFtXoK-j9yXE"
   },
   "outputs": [],
   "source": []
  }
 ],
 "metadata": {
  "accelerator": "TPU",
  "colab": {
   "gpuType": "V28",
   "provenance": []
  },
  "kernelspec": {
   "display_name": "Python 3",
   "name": "python3"
  },
  "language_info": {
   "codemirror_mode": {
    "name": "ipython",
    "version": 3
   },
   "file_extension": ".py",
   "mimetype": "text/x-python",
   "name": "python",
   "nbconvert_exporter": "python",
   "pygments_lexer": "ipython3",
   "version": "3.9.6"
  }
 },
 "nbformat": 4,
 "nbformat_minor": 0
}
